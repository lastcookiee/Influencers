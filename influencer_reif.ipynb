{
 "cells": [
  {
   "cell_type": "code",
   "execution_count": 5,
   "metadata": {},
   "outputs": [],
   "source": [
    "import torch\n",
    "import torch.nn as nn\n",
    "import torch.optim as optim\n",
    "from torch.utils.data import DataLoader, TensorDataset"
   ]
  },
  {
   "cell_type": "code",
   "execution_count": 6,
   "metadata": {},
   "outputs": [],
   "source": [
    "# Define your model architecture\n",
    "class RecommendationModel(nn.Module):\n",
    "    def __init__(self, input_dim, hidden_dim, output_dim):\n",
    "        super(RecommendationModel, self).__init__()\n",
    "        self.fc1 = nn.Linear(input_dim, hidden_dim)\n",
    "        self.fc2 = nn.Linear(hidden_dim, hidden_dim)\n",
    "        self.fc3 = nn.Linear(hidden_dim, output_dim)\n",
    "    \n",
    "    def forward(self, x):\n",
    "        x = torch.relu(self.fc1(x))\n",
    "        x = torch.relu(self.fc2(x))\n",
    "        return self.fc3(x)"
   ]
  },
  {
   "cell_type": "code",
   "execution_count": 7,
   "metadata": {},
   "outputs": [],
   "source": [
    "# Assuming you have tensors for features and targets\n",
    "# features: [num_samples, input_dim]\n",
    "# targets: [num_samples, output_dim]\n",
    "# For example purposes, using random data here:\n",
    "input_dim = 20      # Feature dimension (e.g., campaign and influencer features)\n",
    "hidden_dim = 128\n",
    "output_dim = 1      # Campaign success score (regression)\n",
    "\n",
    "# Replace these with your actual dataset tensors\n",
    "features = torch.randn(10000, input_dim)\n",
    "targets = torch.randn(10000, output_dim)\n",
    "\n",
    "dataset = TensorDataset(features, targets)\n",
    "dataloader = DataLoader(dataset, batch_size=64, shuffle=True)"
   ]
  },
  {
   "cell_type": "code",
   "execution_count": 8,
   "metadata": {},
   "outputs": [
    {
     "name": "stdout",
     "output_type": "stream",
     "text": [
      "Epoch 1/10, Loss: 1.259936809539795\n",
      "Epoch 2/10, Loss: 0.8514381051063538\n",
      "Epoch 3/10, Loss: 1.0987308025360107\n",
      "Epoch 4/10, Loss: 0.7367694973945618\n",
      "Epoch 5/10, Loss: 0.8311354517936707\n",
      "Epoch 6/10, Loss: 0.5577976703643799\n",
      "Epoch 7/10, Loss: 0.934119701385498\n",
      "Epoch 8/10, Loss: 1.0240236520767212\n",
      "Epoch 9/10, Loss: 0.9411243796348572\n",
      "Epoch 10/10, Loss: 0.9626107811927795\n",
      "Supervised pre-training completed and weights saved.\n"
     ]
    }
   ],
   "source": [
    "model = RecommendationModel(input_dim, hidden_dim, output_dim)\n",
    "optimizer = optim.Adam(model.parameters(), lr=1e-3)\n",
    "criterion = nn.MSELoss()\n",
    "\n",
    "# Supervised training loop\n",
    "num_epochs = 10\n",
    "for epoch in range(num_epochs):\n",
    "    for batch_features, batch_targets in dataloader:\n",
    "        optimizer.zero_grad()\n",
    "        predictions = model(batch_features)\n",
    "        loss = criterion(predictions, batch_targets)\n",
    "        loss.backward()\n",
    "        optimizer.step()\n",
    "    print(f\"Epoch {epoch+1}/{num_epochs}, Loss: {loss.item()}\")\n",
    "\n",
    "# Save the pre-trained weights\n",
    "torch.save(model.state_dict(), \"pretrained_recommendation_model.pth\")\n",
    "print(\"Supervised pre-training completed and weights saved.\")"
   ]
  }
 ],
 "metadata": {
  "kernelspec": {
   "display_name": "Python 3",
   "language": "python",
   "name": "python3"
  },
  "language_info": {
   "codemirror_mode": {
    "name": "ipython",
    "version": 3
   },
   "file_extension": ".py",
   "mimetype": "text/x-python",
   "name": "python",
   "nbconvert_exporter": "python",
   "pygments_lexer": "ipython3",
   "version": "3.11.0"
  }
 },
 "nbformat": 4,
 "nbformat_minor": 2
}
